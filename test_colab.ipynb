{
  "nbformat": 4,
  "nbformat_minor": 0,
  "metadata": {
    "colab": {
      "name": "test-colab.ipynb",
      "provenance": [],
      "authorship_tag": "ABX9TyPGZ3fCw4f/r7ww8LY509r1",
      "include_colab_link": true
    },
    "kernelspec": {
      "name": "python3",
      "display_name": "Python 3"
    }
  },
  "cells": [
    {
      "cell_type": "markdown",
      "metadata": {
        "id": "view-in-github",
        "colab_type": "text"
      },
      "source": [
        "<a href=\"https://colab.research.google.com/github/song276795186/colab/blob/master/test_colab.ipynb\" target=\"_parent\"><img src=\"https://colab.research.google.com/assets/colab-badge.svg\" alt=\"Open In Colab\"/></a>"
      ]
    },
    {
      "cell_type": "markdown",
      "metadata": {
        "id": "SofEUWgzFPPE",
        "colab_type": "text"
      },
      "source": [
        "This is my first colab code, happy!"
      ]
    },
    {
      "cell_type": "code",
      "metadata": {
        "id": "5aAO6sI7FZC9",
        "colab_type": "code",
        "colab": {}
      },
      "source": [
        ""
      ],
      "execution_count": 0,
      "outputs": []
    }
  ]
}